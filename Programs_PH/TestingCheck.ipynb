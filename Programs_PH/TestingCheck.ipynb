{
 "cells": [
  {
   "cell_type": "code",
   "execution_count": 1,
   "metadata": {},
   "outputs": [],
   "source": [
    "# Dependencies and Setup\n",
    "import matplotlib.pyplot as plt\n",
    "import pandas as pd\n",
    "import numpy as np\n",
    "import requests\n",
    "import gmaps\n",
    "import os\n",
    "import time\n",
    "from scipy.stats import linregress\n",
    "import scipy.stats as st"
   ]
  },
  {
   "cell_type": "code",
   "execution_count": 2,
   "metadata": {},
   "outputs": [],
   "source": [
    "response = requests.get('https://covidtracking.com/api/v1/states/daily.json').json()\n",
    "results = response"
   ]
  },
  {
   "cell_type": "code",
   "execution_count": 3,
   "metadata": {},
   "outputs": [],
   "source": [
    "field_list = ['date', 'state', 'positive', 'negative', 'pending', 'hospitalizedCurrently', 'hospitalizedCumulative', 'inIcuCurrently', 'inIcuCumulative', 'onVentilatorCurrently', 'onVentilatorCumulative', 'recovered', 'hash', 'dateChecked', 'death', 'hospitalized', 'total', 'totalTestResults', 'posNeg', 'fips', 'deathIncrease', 'hospitalizedIncrease', 'negativeIncrease', 'positiveIncrease', 'totalTestResultsIncrease']\n",
    "results_dict = dict.fromkeys(field_list)\n",
    "for field in field_list:\n",
    "    results_dict.update({field : []})"
   ]
  },
  {
   "cell_type": "code",
   "execution_count": 4,
   "metadata": {},
   "outputs": [],
   "source": [
    "for result in results:\n",
    "    for field in field_list:\n",
    "        try:\n",
    "            results_dict[field].append(result[field])\n",
    "        except:\n",
    "            results_dict[field].append(0)"
   ]
  },
  {
   "cell_type": "code",
   "execution_count": 5,
   "metadata": {},
   "outputs": [
    {
     "name": "stdout",
     "output_type": "stream",
     "text": [
      "<class 'pandas.core.frame.DataFrame'>\n",
      "RangeIndex: 2825 entries, 0 to 2824\n",
      "Data columns (total 25 columns):\n",
      " #   Column                    Non-Null Count  Dtype  \n",
      "---  ------                    --------------  -----  \n",
      " 0   date                      2825 non-null   int64  \n",
      " 1   state                     2825 non-null   object \n",
      " 2   positive                  2812 non-null   float64\n",
      " 3   negative                  2789 non-null   float64\n",
      " 4   pending                   1061 non-null   float64\n",
      " 5   hospitalizedCurrently     1537 non-null   float64\n",
      " 6   hospitalizedCumulative    1670 non-null   float64\n",
      " 7   inIcuCurrently            1134 non-null   float64\n",
      " 8   inIcuCumulative           892 non-null    float64\n",
      " 9   onVentilatorCurrently     1049 non-null   float64\n",
      " 10  onVentilatorCumulative    780 non-null    float64\n",
      " 11  recovered                 1444 non-null   float64\n",
      " 12  hash                      2825 non-null   object \n",
      " 13  dateChecked               2825 non-null   object \n",
      " 14  death                     2825 non-null   int64  \n",
      " 15  hospitalized              1670 non-null   float64\n",
      " 16  total                     2825 non-null   int64  \n",
      " 17  totalTestResults          2825 non-null   int64  \n",
      " 18  posNeg                    2825 non-null   int64  \n",
      " 19  fips                      2825 non-null   object \n",
      " 20  deathIncrease             2769 non-null   float64\n",
      " 21  hospitalizedIncrease      2769 non-null   float64\n",
      " 22  negativeIncrease          2769 non-null   float64\n",
      " 23  positiveIncrease          2769 non-null   float64\n",
      " 24  totalTestResultsIncrease  2769 non-null   float64\n",
      "dtypes: float64(16), int64(5), object(4)\n",
      "memory usage: 551.9+ KB\n"
     ]
    }
   ],
   "source": [
    "covid_states_df = pd.DataFrame.from_dict(results_dict)\n",
    "covid_states_df.info()"
   ]
  },
  {
   "cell_type": "code",
   "execution_count": 6,
   "metadata": {},
   "outputs": [
    {
     "data": {
      "text/html": [
       "<div>\n",
       "<style scoped>\n",
       "    .dataframe tbody tr th:only-of-type {\n",
       "        vertical-align: middle;\n",
       "    }\n",
       "\n",
       "    .dataframe tbody tr th {\n",
       "        vertical-align: top;\n",
       "    }\n",
       "\n",
       "    .dataframe thead th {\n",
       "        text-align: right;\n",
       "    }\n",
       "</style>\n",
       "<table border=\"1\" class=\"dataframe\">\n",
       "  <thead>\n",
       "    <tr style=\"text-align: right;\">\n",
       "      <th></th>\n",
       "      <th>date</th>\n",
       "      <th>state</th>\n",
       "      <th>positive</th>\n",
       "      <th>negative</th>\n",
       "      <th>pending</th>\n",
       "      <th>hospitalizedCurrently</th>\n",
       "      <th>hospitalizedCumulative</th>\n",
       "      <th>inIcuCurrently</th>\n",
       "      <th>inIcuCumulative</th>\n",
       "      <th>onVentilatorCurrently</th>\n",
       "      <th>...</th>\n",
       "      <th>hospitalized</th>\n",
       "      <th>total</th>\n",
       "      <th>totalTestResults</th>\n",
       "      <th>posNeg</th>\n",
       "      <th>fips</th>\n",
       "      <th>deathIncrease</th>\n",
       "      <th>hospitalizedIncrease</th>\n",
       "      <th>negativeIncrease</th>\n",
       "      <th>positiveIncrease</th>\n",
       "      <th>totalTestResultsIncrease</th>\n",
       "    </tr>\n",
       "  </thead>\n",
       "  <tbody>\n",
       "    <tr>\n",
       "      <th>0</th>\n",
       "      <td>20200424</td>\n",
       "      <td>AK</td>\n",
       "      <td>339.0</td>\n",
       "      <td>11942.0</td>\n",
       "      <td>NaN</td>\n",
       "      <td>36.0</td>\n",
       "      <td>NaN</td>\n",
       "      <td>NaN</td>\n",
       "      <td>NaN</td>\n",
       "      <td>NaN</td>\n",
       "      <td>...</td>\n",
       "      <td>NaN</td>\n",
       "      <td>12281</td>\n",
       "      <td>12281</td>\n",
       "      <td>12281</td>\n",
       "      <td>02</td>\n",
       "      <td>0.0</td>\n",
       "      <td>0.0</td>\n",
       "      <td>118.0</td>\n",
       "      <td>2.0</td>\n",
       "      <td>120.0</td>\n",
       "    </tr>\n",
       "    <tr>\n",
       "      <th>1</th>\n",
       "      <td>20200424</td>\n",
       "      <td>AL</td>\n",
       "      <td>5832.0</td>\n",
       "      <td>46863.0</td>\n",
       "      <td>NaN</td>\n",
       "      <td>NaN</td>\n",
       "      <td>768.0</td>\n",
       "      <td>NaN</td>\n",
       "      <td>288.0</td>\n",
       "      <td>NaN</td>\n",
       "      <td>...</td>\n",
       "      <td>768.0</td>\n",
       "      <td>52695</td>\n",
       "      <td>52695</td>\n",
       "      <td>52695</td>\n",
       "      <td>01</td>\n",
       "      <td>0.0</td>\n",
       "      <td>0.0</td>\n",
       "      <td>0.0</td>\n",
       "      <td>54.0</td>\n",
       "      <td>54.0</td>\n",
       "    </tr>\n",
       "    <tr>\n",
       "      <th>2</th>\n",
       "      <td>20200424</td>\n",
       "      <td>AR</td>\n",
       "      <td>2741.0</td>\n",
       "      <td>32837.0</td>\n",
       "      <td>NaN</td>\n",
       "      <td>101.0</td>\n",
       "      <td>291.0</td>\n",
       "      <td>NaN</td>\n",
       "      <td>NaN</td>\n",
       "      <td>24.0</td>\n",
       "      <td>...</td>\n",
       "      <td>291.0</td>\n",
       "      <td>35578</td>\n",
       "      <td>35578</td>\n",
       "      <td>35578</td>\n",
       "      <td>05</td>\n",
       "      <td>0.0</td>\n",
       "      <td>0.0</td>\n",
       "      <td>3712.0</td>\n",
       "      <td>276.0</td>\n",
       "      <td>3988.0</td>\n",
       "    </tr>\n",
       "    <tr>\n",
       "      <th>3</th>\n",
       "      <td>20200424</td>\n",
       "      <td>AS</td>\n",
       "      <td>0.0</td>\n",
       "      <td>3.0</td>\n",
       "      <td>17.0</td>\n",
       "      <td>0.0</td>\n",
       "      <td>0.0</td>\n",
       "      <td>0.0</td>\n",
       "      <td>0.0</td>\n",
       "      <td>0.0</td>\n",
       "      <td>...</td>\n",
       "      <td>0.0</td>\n",
       "      <td>20</td>\n",
       "      <td>3</td>\n",
       "      <td>3</td>\n",
       "      <td>60</td>\n",
       "      <td>0.0</td>\n",
       "      <td>0.0</td>\n",
       "      <td>0.0</td>\n",
       "      <td>0.0</td>\n",
       "      <td>0.0</td>\n",
       "    </tr>\n",
       "    <tr>\n",
       "      <th>4</th>\n",
       "      <td>20200424</td>\n",
       "      <td>AZ</td>\n",
       "      <td>6045.0</td>\n",
       "      <td>54669.0</td>\n",
       "      <td>NaN</td>\n",
       "      <td>639.0</td>\n",
       "      <td>984.0</td>\n",
       "      <td>332.0</td>\n",
       "      <td>NaN</td>\n",
       "      <td>186.0</td>\n",
       "      <td>...</td>\n",
       "      <td>984.0</td>\n",
       "      <td>60714</td>\n",
       "      <td>60714</td>\n",
       "      <td>60714</td>\n",
       "      <td>04</td>\n",
       "      <td>17.0</td>\n",
       "      <td>984.0</td>\n",
       "      <td>1741.0</td>\n",
       "      <td>276.0</td>\n",
       "      <td>2017.0</td>\n",
       "    </tr>\n",
       "  </tbody>\n",
       "</table>\n",
       "<p>5 rows × 25 columns</p>\n",
       "</div>"
      ],
      "text/plain": [
       "       date state  positive  negative  pending  hospitalizedCurrently  \\\n",
       "0  20200424    AK     339.0   11942.0      NaN                   36.0   \n",
       "1  20200424    AL    5832.0   46863.0      NaN                    NaN   \n",
       "2  20200424    AR    2741.0   32837.0      NaN                  101.0   \n",
       "3  20200424    AS       0.0       3.0     17.0                    0.0   \n",
       "4  20200424    AZ    6045.0   54669.0      NaN                  639.0   \n",
       "\n",
       "   hospitalizedCumulative  inIcuCurrently  inIcuCumulative  \\\n",
       "0                     NaN             NaN              NaN   \n",
       "1                   768.0             NaN            288.0   \n",
       "2                   291.0             NaN              NaN   \n",
       "3                     0.0             0.0              0.0   \n",
       "4                   984.0           332.0              NaN   \n",
       "\n",
       "   onVentilatorCurrently  ...  hospitalized  total totalTestResults posNeg  \\\n",
       "0                    NaN  ...           NaN  12281            12281  12281   \n",
       "1                    NaN  ...         768.0  52695            52695  52695   \n",
       "2                   24.0  ...         291.0  35578            35578  35578   \n",
       "3                    0.0  ...           0.0     20                3      3   \n",
       "4                  186.0  ...         984.0  60714            60714  60714   \n",
       "\n",
       "   fips  deathIncrease  hospitalizedIncrease  negativeIncrease  \\\n",
       "0    02            0.0                   0.0             118.0   \n",
       "1    01            0.0                   0.0               0.0   \n",
       "2    05            0.0                   0.0            3712.0   \n",
       "3    60            0.0                   0.0               0.0   \n",
       "4    04           17.0                 984.0            1741.0   \n",
       "\n",
       "   positiveIncrease totalTestResultsIncrease  \n",
       "0               2.0                    120.0  \n",
       "1              54.0                     54.0  \n",
       "2             276.0                   3988.0  \n",
       "3               0.0                      0.0  \n",
       "4             276.0                   2017.0  \n",
       "\n",
       "[5 rows x 25 columns]"
      ]
     },
     "execution_count": 6,
     "metadata": {},
     "output_type": "execute_result"
    }
   ],
   "source": [
    "covid_states_df.head()"
   ]
  },
  {
   "cell_type": "code",
   "execution_count": 7,
   "metadata": {},
   "outputs": [
    {
     "name": "stdout",
     "output_type": "stream",
     "text": [
      "<class 'pandas.core.frame.DataFrame'>\n",
      "Int64Index: 2769 entries, 0 to 2823\n",
      "Data columns (total 25 columns):\n",
      " #   Column                    Non-Null Count  Dtype  \n",
      "---  ------                    --------------  -----  \n",
      " 0   date                      2769 non-null   int64  \n",
      " 1   state                     2769 non-null   object \n",
      " 2   positive                  2756 non-null   float64\n",
      " 3   negative                  2733 non-null   float64\n",
      " 4   pending                   1005 non-null   float64\n",
      " 5   hospitalizedCurrently     1482 non-null   float64\n",
      " 6   hospitalizedCumulative    1615 non-null   float64\n",
      " 7   inIcuCurrently            1079 non-null   float64\n",
      " 8   inIcuCumulative           837 non-null    float64\n",
      " 9   onVentilatorCurrently     994 non-null    float64\n",
      " 10  onVentilatorCumulative    725 non-null    float64\n",
      " 11  recovered                 1389 non-null   float64\n",
      " 12  hash                      2769 non-null   object \n",
      " 13  dateChecked               2769 non-null   object \n",
      " 14  death                     2769 non-null   int64  \n",
      " 15  hospitalized              1615 non-null   float64\n",
      " 16  total                     2769 non-null   int64  \n",
      " 17  totalTestResults          2769 non-null   int64  \n",
      " 18  posNeg                    2769 non-null   int64  \n",
      " 19  fips                      2769 non-null   object \n",
      " 20  deathIncrease             2769 non-null   float64\n",
      " 21  hospitalizedIncrease      2769 non-null   float64\n",
      " 22  negativeIncrease          2769 non-null   float64\n",
      " 23  positiveIncrease          2769 non-null   float64\n",
      " 24  totalTestResultsIncrease  2769 non-null   float64\n",
      "dtypes: float64(16), int64(5), object(4)\n",
      "memory usage: 562.5+ KB\n"
     ]
    }
   ],
   "source": [
    "covid_states_df['positiveIncrease'] = covid_states_df['positiveIncrease'].replace(\"None\", 0)\n",
    "covid_states_df['positiveIncrease'] = covid_states_df['positiveIncrease'].replace(\"\", 0)\n",
    "covid_states_df = covid_states_df.replace([np.inf, -np.inf], np.nan)\n",
    "covid_states_df = covid_states_df.dropna(subset=['positiveIncrease'])\n",
    "covid_states_df.info()"
   ]
  },
  {
   "cell_type": "code",
   "execution_count": 8,
   "metadata": {},
   "outputs": [
    {
     "data": {
      "image/png": "[encoded data removed]",
      "text/plain": [
       "<Figure size 432x288 with 1 Axes>"
      ]
     },
     "metadata": {
      "needs_background": "light"
     },
     "output_type": "display_data"
    },
    {
     "name": "stdout",
     "output_type": "stream",
     "text": [
      "The R-squared between both factors is 0.34\n",
      "The p-value is 2.1095264583594818e-251\n"
     ]
    }
   ],
   "source": [
    "x_values = covid_states_df['totalTestResultsIncrease']\n",
    "y_values = covid_states_df['positiveIncrease']\n",
    "correlation = st.pearsonr(x_values,y_values)\n",
    "(slope, intercept, rvalue, pvalue, stderr) = linregress(x_values, y_values)\n",
    "regress_values = x_values * slope + intercept\n",
    "line_eq = \"y = \" + str(round(slope,2)) + \"x + \" + str(round(intercept,2))\n",
    "plt.scatter(x_values,y_values)\n",
    "plt.plot(x_values,regress_values,\"r-\")\n",
    "plt.annotate(line_eq,(5,15000),fontsize=10,color=\"red\")\n",
    "plt.xlabel('Number of Tests')\n",
    "plt.ylabel('Number of Positive Results')\n",
    "plt.title(\"Number of Tests vs. Positive Results\")\n",
    "plt.show()\n",
    "print(f\"The R-squared between both factors is {round(correlation[0]*correlation[0],2)}\")\n",
    "print(f\"The p-value is {correlation[1]}\")"
   ]
  },
  {
   "cell_type": "code",
   "execution_count": 10,
   "metadata": {},
   "outputs": [
    {
     "data": {
      "image/png": "[encoded data removed]",
      "text/plain": [
       "<Figure size 432x288 with 1 Axes>"
      ]
     },
     "metadata": {
      "needs_background": "light"
     },
     "output_type": "display_data"
    },
    {
     "name": "stdout",
     "output_type": "stream",
     "text": [
      "The R-squared between both factors is 0.63663\n",
      "The p-value is 0.0\n"
     ]
    }
   ],
   "source": [
    "without_outliers = covid_states_df[covid_states_df['totalTestResultsIncrease'] < 50000].copy()\n",
    "\n",
    "x_values = without_outliers['totalTestResultsIncrease']\n",
    "y_values = without_outliers['positiveIncrease']\n",
    "correlation = st.pearsonr(x_values,y_values)\n",
    "(slope, intercept, rvalue, pvalue, stderr) = linregress(x_values, y_values)\n",
    "regress_values = x_values * slope + intercept\n",
    "line_eq = \"y = \" + str(round(slope,2)) + \"x + \" + str(round(intercept,2))\n",
    "plt.scatter(x_values,y_values)\n",
    "plt.plot(x_values,regress_values,\"r-\")\n",
    "plt.annotate(line_eq,(5,10000),fontsize=10,color=\"red\")\n",
    "plt.xlabel('Number of Tests')\n",
    "plt.ylabel('Number of Positive Results')\n",
    "plt.title(\"Number of Tests vs. Positive Results\")\n",
    "plt.show()\n",
    "print(f\"The R-squared between both factors is {round(correlation[0]*correlation[0],5)}\")\n",
    "print(f\"The p-value is {correlation[1]}\")"
   ]
  },
  {
   "cell_type": "code",
   "execution_count": 11,
   "metadata": {},
   "outputs": [
    {
     "data": {
      "image/png": "[encoded data removed]",
      "text/plain": [
       "<Figure size 432x288 with 1 Axes>"
      ]
     },
     "metadata": {
      "needs_background": "light"
     },
     "output_type": "display_data"
    },
    {
     "name": "stdout",
     "output_type": "stream",
     "text": [
      "The R-squared between both factors is 0.87\n",
      "The p-value is 7.498650691558495e-181\n"
     ]
    }
   ],
   "source": [
    "NY = covid_states_df[covid_states_df['state'] == 'NY'].copy()\n",
    "NJ = covid_states_df[covid_states_df['state'] == 'NJ'].copy()\n",
    "CT = covid_states_df[covid_states_df['state'] == 'CT'].copy()\n",
    "MI = covid_states_df[covid_states_df['state'] == 'MI'].copy()\n",
    "GA = covid_states_df[covid_states_df['state'] == 'GA'].copy()\n",
    "MA = covid_states_df[covid_states_df['state'] == 'MA'].copy()\n",
    "IL = covid_states_df[covid_states_df['state'] == 'IL'].copy()\n",
    "CO = covid_states_df[covid_states_df['state'] == 'CO'].copy()\n",
    "high_test_positivity_states = pd.concat([NY, NJ, CT, MI, GA, MA, IL, CO], axis=0)\n",
    "\n",
    "x_values = high_test_positivity_states['totalTestResultsIncrease']\n",
    "y_values = high_test_positivity_states['positiveIncrease']\n",
    "correlation = st.pearsonr(x_values,y_values)\n",
    "(slope, intercept, rvalue, pvalue, stderr) = linregress(x_values, y_values)\n",
    "regress_values = x_values * slope + intercept\n",
    "line_eq = \"y = \" + str(round(slope,2)) + \"x + \" + str(round(intercept,2))\n",
    "plt.scatter(x_values,y_values)\n",
    "plt.plot(x_values,regress_values,\"r-\")\n",
    "plt.annotate(line_eq,(5,8000),fontsize=10,color=\"red\")\n",
    "plt.xlabel('Number of Tests')\n",
    "plt.ylabel('Number of Positive Results')\n",
    "plt.title(\"Number of Tests vs. Positive Results\")\n",
    "plt.show()\n",
    "print(f\"The R-squared between both factors is {round(correlation[0]*correlation[0],2)}\")\n",
    "print(f\"The p-value is {correlation[1]}\")"
   ]
  },
  {
   "cell_type": "code",
   "execution_count": 11,
   "metadata": {},
   "outputs": [
    {
     "data": {
      "text/plain": [
       "date                        398\n",
       "state                       398\n",
       "positive                    398\n",
       "negative                    392\n",
       "pending                     100\n",
       "hospitalizedCurrently       253\n",
       "hospitalizedCumulative      213\n",
       "inIcuCurrently              173\n",
       "inIcuCumulative              86\n",
       "onVentilatorCurrently       136\n",
       "onVentilatorCumulative       86\n",
       "recovered                   136\n",
       "hash                        398\n",
       "dateChecked                 398\n",
       "death                       398\n",
       "hospitalized                213\n",
       "total                       398\n",
       "totalTestResults            398\n",
       "posNeg                      398\n",
       "fips                        398\n",
       "deathIncrease               398\n",
       "hospitalizedIncrease        398\n",
       "negativeIncrease            398\n",
       "positiveIncrease            398\n",
       "totalTestResultsIncrease    398\n",
       "dtype: int64"
      ]
     },
     "execution_count": 11,
     "metadata": {},
     "output_type": "execute_result"
    }
   ],
   "source": [
    "high_test_positivity_states.count()"
   ]
  },
  {
   "cell_type": "code",
   "execution_count": null,
   "metadata": {},
   "outputs": [],
   "source": []
  }
 ],
 "metadata": {
  "kernelspec": {
   "display_name": "PythonData",
   "language": "python",
   "name": "pythondata"
  },
  "language_info": {
   "codemirror_mode": {
    "name": "ipython",
    "version": 3
   },
   "file_extension": ".py",
   "mimetype": "text/x-python",
   "name": "python",
   "nbconvert_exporter": "python",
   "pygments_lexer": "ipython3",
   "version": "3.6.10"
  }
 },
 "nbformat": 4,
 "nbformat_minor": 4
}
