{
 "cells": [
  {
   "cell_type": "code",
   "execution_count": 1,
   "metadata": {},
   "outputs": [],
   "source": [
    "# Dependencies and Setup\n",
    "import matplotlib.pyplot as plt\n",
    "import pandas as pd\n",
    "import numpy as np\n",
    "import scipy.stats as stats\n",
    "from scipy.stats import linregress"
   ]
  },
  {
   "cell_type": "code",
   "execution_count": 2,
   "metadata": {},
   "outputs": [],
   "source": [
    "# create population density and covid case dataframes by county to merge\n",
    "density_df = pd.read_excel('Population_Density.xlsm')\n",
    "county_df = pd.read_csv('us-counties.csv')"
   ]
  },
  {
   "cell_type": "code",
   "execution_count": 3,
   "metadata": {},
   "outputs": [
    {
     "name": "stdout",
     "output_type": "stream",
     "text": [
      "<class 'pandas.core.frame.DataFrame'>\n",
      "Int64Index: 72056 entries, 0 to 72987\n",
      "Data columns (total 6 columns):\n",
      " #   Column  Non-Null Count  Dtype \n",
      "---  ------  --------------  ----- \n",
      " 0   date    72056 non-null  object\n",
      " 1   county  72056 non-null  object\n",
      " 2   state   72056 non-null  object\n",
      " 3   fips    72056 non-null  int64 \n",
      " 4   cases   72056 non-null  int64 \n",
      " 5   deaths  72056 non-null  int64 \n",
      "dtypes: int64(3), object(3)\n",
      "memory usage: 3.8+ MB\n"
     ]
    }
   ],
   "source": [
    "#drop nan values to clean data\n",
    "density_df = density_df.dropna(axis=1, how='all')\n",
    "\n",
    "# density_df = density_df.set_index(\"FIPS\")\n",
    "density_df = density_df[density_df['State'] != 'NaN']\n",
    "\n",
    "# delete duplicate df column\n",
    "# del density_df['2019.1']\n",
    "county_df = county_df.dropna()\n",
    "# display density df\n",
    "density_df\n",
    "county_df['fips'] = county_df.fips.astype(int)\n",
    "county_df.info()"
   ]
  },
  {
   "cell_type": "code",
   "execution_count": 11,
   "metadata": {},
   "outputs": [],
   "source": [
    "#display county df\n",
    "density_df = density_df.set_index('FIPS Code')"
   ]
  },
  {
   "cell_type": "code",
   "execution_count": 12,
   "metadata": {},
   "outputs": [],
   "source": [
    "#drop duplicate counties from df\n",
    "final_counties = county_df.drop_duplicates(['county'], keep = 'last')\n",
    "\n",
    "# visualize top counties (make sure this is actually working)\n",
    "#final_counties = final_counties.sort_values(['cases'], ascending = False)\n",
    "\n",
    "final_counties = final_counties.set_index('fips')"
   ]
  },
  {
   "cell_type": "code",
   "execution_count": 13,
   "metadata": {},
   "outputs": [],
   "source": [
    "aggregate_data = final_counties.join(density_df, how = 'inner')"
   ]
  },
  {
   "cell_type": "code",
   "execution_count": 14,
   "metadata": {},
   "outputs": [],
   "source": [
    "# aggregate_data.loc[aggregate_data.index.dropna()]"
   ]
  },
  {
   "cell_type": "code",
   "execution_count": 15,
   "metadata": {},
   "outputs": [
    {
     "data": {
      "text/html": [
       "<div>\n",
       "<style scoped>\n",
       "    .dataframe tbody tr th:only-of-type {\n",
       "        vertical-align: middle;\n",
       "    }\n",
       "\n",
       "    .dataframe tbody tr th {\n",
       "        vertical-align: top;\n",
       "    }\n",
       "\n",
       "    .dataframe thead th {\n",
       "        text-align: right;\n",
       "    }\n",
       "</style>\n",
       "<table border=\"1\" class=\"dataframe\">\n",
       "  <thead>\n",
       "    <tr style=\"text-align: right;\">\n",
       "      <th></th>\n",
       "      <th>date</th>\n",
       "      <th>county</th>\n",
       "      <th>state</th>\n",
       "      <th>cases</th>\n",
       "      <th>deaths</th>\n",
       "      <th>State</th>\n",
       "      <th>Area</th>\n",
       "      <th>Units</th>\n",
       "      <th>2019</th>\n",
       "    </tr>\n",
       "  </thead>\n",
       "  <tbody>\n",
       "    <tr>\n",
       "      <th>1001</th>\n",
       "      <td>2020-04-19</td>\n",
       "      <td>Autauga</td>\n",
       "      <td>Alabama</td>\n",
       "      <td>27</td>\n",
       "      <td>2</td>\n",
       "      <td>Alabama</td>\n",
       "      <td>Autauga County</td>\n",
       "      <td>Persons per square mile</td>\n",
       "      <td>93.53509</td>\n",
       "    </tr>\n",
       "    <tr>\n",
       "      <th>1001</th>\n",
       "      <td>2020-04-19</td>\n",
       "      <td>Autauga</td>\n",
       "      <td>Alabama</td>\n",
       "      <td>27</td>\n",
       "      <td>2</td>\n",
       "      <td>Alabama</td>\n",
       "      <td>Autauga County</td>\n",
       "      <td>Persons per square mile</td>\n",
       "      <td>93.53509</td>\n",
       "    </tr>\n",
       "    <tr>\n",
       "      <th>1011</th>\n",
       "      <td>2020-04-19</td>\n",
       "      <td>Bullock</td>\n",
       "      <td>Alabama</td>\n",
       "      <td>9</td>\n",
       "      <td>0</td>\n",
       "      <td>Alabama</td>\n",
       "      <td>Bullock County</td>\n",
       "      <td>Persons per square mile</td>\n",
       "      <td>16.27784</td>\n",
       "    </tr>\n",
       "    <tr>\n",
       "      <th>1011</th>\n",
       "      <td>2020-04-19</td>\n",
       "      <td>Bullock</td>\n",
       "      <td>Alabama</td>\n",
       "      <td>9</td>\n",
       "      <td>0</td>\n",
       "      <td>Alabama</td>\n",
       "      <td>Bullock County</td>\n",
       "      <td>Persons per square mile</td>\n",
       "      <td>16.27784</td>\n",
       "    </tr>\n",
       "    <tr>\n",
       "      <th>1021</th>\n",
       "      <td>2020-04-19</td>\n",
       "      <td>Chilton</td>\n",
       "      <td>Alabama</td>\n",
       "      <td>42</td>\n",
       "      <td>0</td>\n",
       "      <td>Alabama</td>\n",
       "      <td>Chilton County</td>\n",
       "      <td>Persons per square mile</td>\n",
       "      <td>63.72664</td>\n",
       "    </tr>\n",
       "    <tr>\n",
       "      <th>...</th>\n",
       "      <td>...</td>\n",
       "      <td>...</td>\n",
       "      <td>...</td>\n",
       "      <td>...</td>\n",
       "      <td>...</td>\n",
       "      <td>...</td>\n",
       "      <td>...</td>\n",
       "      <td>...</td>\n",
       "      <td>...</td>\n",
       "    </tr>\n",
       "    <tr>\n",
       "      <th>56039</th>\n",
       "      <td>2020-04-19</td>\n",
       "      <td>Teton</td>\n",
       "      <td>Wyoming</td>\n",
       "      <td>62</td>\n",
       "      <td>0</td>\n",
       "      <td>Wyoming</td>\n",
       "      <td>Teton County</td>\n",
       "      <td>Persons per square mile</td>\n",
       "      <td>5.77480</td>\n",
       "    </tr>\n",
       "    <tr>\n",
       "      <th>56041</th>\n",
       "      <td>2020-04-19</td>\n",
       "      <td>Uinta</td>\n",
       "      <td>Wyoming</td>\n",
       "      <td>6</td>\n",
       "      <td>0</td>\n",
       "      <td>Wyoming</td>\n",
       "      <td>Uinta County</td>\n",
       "      <td>Persons per square mile</td>\n",
       "      <td>9.75107</td>\n",
       "    </tr>\n",
       "    <tr>\n",
       "      <th>56041</th>\n",
       "      <td>2020-04-19</td>\n",
       "      <td>Uinta</td>\n",
       "      <td>Wyoming</td>\n",
       "      <td>6</td>\n",
       "      <td>0</td>\n",
       "      <td>Wyoming</td>\n",
       "      <td>Uinta County</td>\n",
       "      <td>Persons per square mile</td>\n",
       "      <td>9.75107</td>\n",
       "    </tr>\n",
       "    <tr>\n",
       "      <th>56043</th>\n",
       "      <td>2020-04-19</td>\n",
       "      <td>Washakie</td>\n",
       "      <td>Wyoming</td>\n",
       "      <td>4</td>\n",
       "      <td>0</td>\n",
       "      <td>Wyoming</td>\n",
       "      <td>Washakie County</td>\n",
       "      <td>Persons per square mile</td>\n",
       "      <td>3.52218</td>\n",
       "    </tr>\n",
       "    <tr>\n",
       "      <th>56043</th>\n",
       "      <td>2020-04-19</td>\n",
       "      <td>Washakie</td>\n",
       "      <td>Wyoming</td>\n",
       "      <td>4</td>\n",
       "      <td>0</td>\n",
       "      <td>Wyoming</td>\n",
       "      <td>Washakie County</td>\n",
       "      <td>Persons per square mile</td>\n",
       "      <td>3.52218</td>\n",
       "    </tr>\n",
       "  </tbody>\n",
       "</table>\n",
       "<p>3296 rows × 9 columns</p>\n",
       "</div>"
      ],
      "text/plain": [
       "             date    county    state  cases  deaths    State             Area  \\\n",
       "1001   2020-04-19   Autauga  Alabama     27       2  Alabama   Autauga County   \n",
       "1001   2020-04-19   Autauga  Alabama     27       2  Alabama   Autauga County   \n",
       "1011   2020-04-19   Bullock  Alabama      9       0  Alabama   Bullock County   \n",
       "1011   2020-04-19   Bullock  Alabama      9       0  Alabama   Bullock County   \n",
       "1021   2020-04-19   Chilton  Alabama     42       0  Alabama   Chilton County   \n",
       "...           ...       ...      ...    ...     ...      ...              ...   \n",
       "56039  2020-04-19     Teton  Wyoming     62       0  Wyoming     Teton County   \n",
       "56041  2020-04-19     Uinta  Wyoming      6       0  Wyoming     Uinta County   \n",
       "56041  2020-04-19     Uinta  Wyoming      6       0  Wyoming     Uinta County   \n",
       "56043  2020-04-19  Washakie  Wyoming      4       0  Wyoming  Washakie County   \n",
       "56043  2020-04-19  Washakie  Wyoming      4       0  Wyoming  Washakie County   \n",
       "\n",
       "                         Units      2019  \n",
       "1001   Persons per square mile  93.53509  \n",
       "1001   Persons per square mile  93.53509  \n",
       "1011   Persons per square mile  16.27784  \n",
       "1011   Persons per square mile  16.27784  \n",
       "1021   Persons per square mile  63.72664  \n",
       "...                        ...       ...  \n",
       "56039  Persons per square mile   5.77480  \n",
       "56041  Persons per square mile   9.75107  \n",
       "56041  Persons per square mile   9.75107  \n",
       "56043  Persons per square mile   3.52218  \n",
       "56043  Persons per square mile   3.52218  \n",
       "\n",
       "[3296 rows x 9 columns]"
      ]
     },
     "execution_count": 15,
     "metadata": {},
     "output_type": "execute_result"
    }
   ],
   "source": [
    "aggregate_data"
   ]
  },
  {
   "cell_type": "code",
   "execution_count": 16,
   "metadata": {},
   "outputs": [],
   "source": [
    "agg_data = aggregate_data.drop_duplicates(['county'], keep = 'last')\n",
    "\n",
    "# wyoming = agg_data[agg_data['cases'] == 30013]\n",
    "\n",
    "# agg_data[]"
   ]
  },
  {
   "cell_type": "code",
   "execution_count": 17,
   "metadata": {},
   "outputs": [
    {
     "data": {
      "text/plain": [
       "0.03659"
      ]
     },
     "execution_count": 17,
     "metadata": {},
     "output_type": "execute_result"
    }
   ],
   "source": [
    "agg_data = agg_data.dropna()\n",
    "\n",
    "agg_data[2019].min()"
   ]
  },
  {
   "cell_type": "code",
   "execution_count": 21,
   "metadata": {},
   "outputs": [
    {
     "name": "stdout",
     "output_type": "stream",
     "text": [
      "<class 'pandas.core.frame.DataFrame'>\n",
      "Int64Index: 1648 entries, 1001 to 56043\n",
      "Data columns (total 9 columns):\n",
      " #   Column  Non-Null Count  Dtype  \n",
      "---  ------  --------------  -----  \n",
      " 0   date    1648 non-null   object \n",
      " 1   county  1648 non-null   object \n",
      " 2   state   1648 non-null   object \n",
      " 3   cases   1648 non-null   int64  \n",
      " 4   deaths  1648 non-null   int64  \n",
      " 5   State   1648 non-null   object \n",
      " 6   Area    1648 non-null   object \n",
      " 7   Units   1648 non-null   object \n",
      " 8   2019    1648 non-null   float64\n",
      "dtypes: float64(1), int64(2), object(6)\n",
      "memory usage: 128.8+ KB\n"
     ]
    }
   ],
   "source": [
    "agg_data.info()\n",
    "\n",
    "cases_list = agg_data['cases'].to_list()\n",
    "\n",
    "density_list = agg_data[2019].to_list()\n",
    "\n",
    "correlation = stats.pearsonr(density_list,cases_list)\n",
    "\n",
    "correlation\n",
    "\n",
    "def regress(x_values,y_values):\n",
    "    corr = stats.pearsonr(x_values,y_values)\n",
    "    print(f'The correlation coefficient is {round(corr[0],2)}')\n",
    "    print(f'The P Value is {corr[1]}')\n",
    "    x_series = pd.Series(x_values)\n",
    "    (slope, intercept, rvalue, pvalue, stderr) = linregress(x_values, y_values)\n",
    "    regress_values = x_series * slope + intercept\n",
    "    plt.plot(x_values, regress_values, 'r-')"
   ]
  },
  {
   "cell_type": "code",
   "execution_count": 28,
   "metadata": {},
   "outputs": [
    {
     "name": "stdout",
     "output_type": "stream",
     "text": [
      "The correlation coefficient is 0.38\n",
      "The P Value is 4.173629213245211e-59\n"
     ]
    },
    {
     "data": {
      "text/plain": [
       "Text(0.5, 1.0, 'Population Density vs Confirmed Cases Per County')"
      ]
     },
     "execution_count": 28,
     "metadata": {},
     "output_type": "execute_result"
    },
    {
     "data": {
      "image/png": "[encoded data removed]",
      "text/plain": [
       "<Figure size 360x360 with 1 Axes>"
      ]
     },
     "metadata": {
      "needs_background": "light"
     },
     "output_type": "display_data"
    }
   ],
   "source": [
    "plt.figure(figsize=(5,5))\n",
    "\n",
    "regress(density_list, cases_list)\n",
    "\n",
    "plt.scatter(density_list, cases_list, marker=\"o\", facecolors=\"red\", edgecolors=\"black\",\n",
    "            alpha=.75)\n",
    "\n",
    "plt.xlim((min(density_list), max(density_list)))\n",
    "plt.ylim((min(cases_list), max(cases_list)))\n",
    "\n",
    "plt.xlabel('Population Density (People Per Mile)')\n",
    "plt.ylabel('Confirmed Covid Cases')\n",
    "plt.title('Population Density vs Confirmed Cases Per County')"
   ]
  },
  {
   "cell_type": "markdown",
   "metadata": {},
   "source": [
    "#### "
   ]
  },
  {
   "cell_type": "code",
   "execution_count": null,
   "metadata": {},
   "outputs": [],
   "source": []
  }
 ],
 "metadata": {
  "kernelspec": {
   "display_name": "pythondata",
   "language": "python",
   "name": "pythondata"
  },
  "language_info": {
   "codemirror_mode": {
    "name": "ipython",
    "version": 3
   },
   "file_extension": ".py",
   "mimetype": "text/x-python",
   "name": "python",
   "nbconvert_exporter": "python",
   "pygments_lexer": "ipython3",
   "version": "3.6.10"
  }
 },
 "nbformat": 4,
 "nbformat_minor": 4
}
